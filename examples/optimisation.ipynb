{
 "metadata": {
  "language_info": {
   "codemirror_mode": {
    "name": "ipython",
    "version": 3
   },
   "file_extension": ".py",
   "mimetype": "text/x-python",
   "name": "python",
   "nbconvert_exporter": "python",
   "pygments_lexer": "ipython3",
   "version": "3.7.5-final"
  },
  "orig_nbformat": 2,
  "kernelspec": {
   "name": "python3",
   "display_name": "Python 3",
   "language": "python"
  }
 },
 "nbformat": 4,
 "nbformat_minor": 2,
 "cells": [
  {
   "cell_type": "code",
   "execution_count": 1,
   "metadata": {},
   "outputs": [],
   "source": [
    "import seirmo\n",
    "\n",
    "model = seirmo.SEIRModel()"
   ]
  },
  {
   "source": [
    "## Visualise data"
   ],
   "cell_type": "markdown",
   "metadata": {}
  },
  {
   "cell_type": "code",
   "execution_count": 32,
   "metadata": {},
   "outputs": [
    {
     "output_type": "display_data",
     "data": {
      "application/vnd.plotly.v1+json": {
       "config": {
        "plotlyServerURL": "https://plot.ly"
       },
       "data": [
        {
         "name": "cases",
         "type": "bar",
         "x": [
          1,
          2,
          3,
          4,
          5,
          6,
          7,
          8,
          9,
          10,
          11,
          12,
          13,
          14,
          15,
          16,
          17,
          18,
          19,
          20,
          21,
          22,
          23,
          24,
          25,
          26,
          27,
          28,
          29,
          30,
          31
         ],
         "y": [
          0.068422,
          0.135223,
          0.08733,
          0.072029,
          0.07862,
          0.101073,
          0.12368,
          0.101726,
          0.08483,
          0.085489,
          0.097586,
          0.213901,
          0.424937,
          0.637302,
          0.565825,
          0.471852,
          0.389886,
          0.369895,
          0.353231,
          0.276205,
          0.24524,
          0.197206,
          0.134545,
          0.063881,
          0.050362,
          0.034053,
          0.040555,
          0.043154,
          0.027896,
          0.026096,
          0.024099
         ]
        }
       ],
       "layout": {
        "template": {
         "data": {
          "bar": [
           {
            "error_x": {
             "color": "#2a3f5f"
            },
            "error_y": {
             "color": "#2a3f5f"
            },
            "marker": {
             "line": {
              "color": "#E5ECF6",
              "width": 0.5
             }
            },
            "type": "bar"
           }
          ],
          "barpolar": [
           {
            "marker": {
             "line": {
              "color": "#E5ECF6",
              "width": 0.5
             }
            },
            "type": "barpolar"
           }
          ],
          "carpet": [
           {
            "aaxis": {
             "endlinecolor": "#2a3f5f",
             "gridcolor": "white",
             "linecolor": "white",
             "minorgridcolor": "white",
             "startlinecolor": "#2a3f5f"
            },
            "baxis": {
             "endlinecolor": "#2a3f5f",
             "gridcolor": "white",
             "linecolor": "white",
             "minorgridcolor": "white",
             "startlinecolor": "#2a3f5f"
            },
            "type": "carpet"
           }
          ],
          "choropleth": [
           {
            "colorbar": {
             "outlinewidth": 0,
             "ticks": ""
            },
            "type": "choropleth"
           }
          ],
          "contour": [
           {
            "colorbar": {
             "outlinewidth": 0,
             "ticks": ""
            },
            "colorscale": [
             [
              0,
              "#0d0887"
             ],
             [
              0.1111111111111111,
              "#46039f"
             ],
             [
              0.2222222222222222,
              "#7201a8"
             ],
             [
              0.3333333333333333,
              "#9c179e"
             ],
             [
              0.4444444444444444,
              "#bd3786"
             ],
             [
              0.5555555555555556,
              "#d8576b"
             ],
             [
              0.6666666666666666,
              "#ed7953"
             ],
             [
              0.7777777777777778,
              "#fb9f3a"
             ],
             [
              0.8888888888888888,
              "#fdca26"
             ],
             [
              1,
              "#f0f921"
             ]
            ],
            "type": "contour"
           }
          ],
          "contourcarpet": [
           {
            "colorbar": {
             "outlinewidth": 0,
             "ticks": ""
            },
            "type": "contourcarpet"
           }
          ],
          "heatmap": [
           {
            "colorbar": {
             "outlinewidth": 0,
             "ticks": ""
            },
            "colorscale": [
             [
              0,
              "#0d0887"
             ],
             [
              0.1111111111111111,
              "#46039f"
             ],
             [
              0.2222222222222222,
              "#7201a8"
             ],
             [
              0.3333333333333333,
              "#9c179e"
             ],
             [
              0.4444444444444444,
              "#bd3786"
             ],
             [
              0.5555555555555556,
              "#d8576b"
             ],
             [
              0.6666666666666666,
              "#ed7953"
             ],
             [
              0.7777777777777778,
              "#fb9f3a"
             ],
             [
              0.8888888888888888,
              "#fdca26"
             ],
             [
              1,
              "#f0f921"
             ]
            ],
            "type": "heatmap"
           }
          ],
          "heatmapgl": [
           {
            "colorbar": {
             "outlinewidth": 0,
             "ticks": ""
            },
            "colorscale": [
             [
              0,
              "#0d0887"
             ],
             [
              0.1111111111111111,
              "#46039f"
             ],
             [
              0.2222222222222222,
              "#7201a8"
             ],
             [
              0.3333333333333333,
              "#9c179e"
             ],
             [
              0.4444444444444444,
              "#bd3786"
             ],
             [
              0.5555555555555556,
              "#d8576b"
             ],
             [
              0.6666666666666666,
              "#ed7953"
             ],
             [
              0.7777777777777778,
              "#fb9f3a"
             ],
             [
              0.8888888888888888,
              "#fdca26"
             ],
             [
              1,
              "#f0f921"
             ]
            ],
            "type": "heatmapgl"
           }
          ],
          "histogram": [
           {
            "marker": {
             "colorbar": {
              "outlinewidth": 0,
              "ticks": ""
             }
            },
            "type": "histogram"
           }
          ],
          "histogram2d": [
           {
            "colorbar": {
             "outlinewidth": 0,
             "ticks": ""
            },
            "colorscale": [
             [
              0,
              "#0d0887"
             ],
             [
              0.1111111111111111,
              "#46039f"
             ],
             [
              0.2222222222222222,
              "#7201a8"
             ],
             [
              0.3333333333333333,
              "#9c179e"
             ],
             [
              0.4444444444444444,
              "#bd3786"
             ],
             [
              0.5555555555555556,
              "#d8576b"
             ],
             [
              0.6666666666666666,
              "#ed7953"
             ],
             [
              0.7777777777777778,
              "#fb9f3a"
             ],
             [
              0.8888888888888888,
              "#fdca26"
             ],
             [
              1,
              "#f0f921"
             ]
            ],
            "type": "histogram2d"
           }
          ],
          "histogram2dcontour": [
           {
            "colorbar": {
             "outlinewidth": 0,
             "ticks": ""
            },
            "colorscale": [
             [
              0,
              "#0d0887"
             ],
             [
              0.1111111111111111,
              "#46039f"
             ],
             [
              0.2222222222222222,
              "#7201a8"
             ],
             [
              0.3333333333333333,
              "#9c179e"
             ],
             [
              0.4444444444444444,
              "#bd3786"
             ],
             [
              0.5555555555555556,
              "#d8576b"
             ],
             [
              0.6666666666666666,
              "#ed7953"
             ],
             [
              0.7777777777777778,
              "#fb9f3a"
             ],
             [
              0.8888888888888888,
              "#fdca26"
             ],
             [
              1,
              "#f0f921"
             ]
            ],
            "type": "histogram2dcontour"
           }
          ],
          "mesh3d": [
           {
            "colorbar": {
             "outlinewidth": 0,
             "ticks": ""
            },
            "type": "mesh3d"
           }
          ],
          "parcoords": [
           {
            "line": {
             "colorbar": {
              "outlinewidth": 0,
              "ticks": ""
             }
            },
            "type": "parcoords"
           }
          ],
          "pie": [
           {
            "automargin": true,
            "type": "pie"
           }
          ],
          "scatter": [
           {
            "marker": {
             "colorbar": {
              "outlinewidth": 0,
              "ticks": ""
             }
            },
            "type": "scatter"
           }
          ],
          "scatter3d": [
           {
            "line": {
             "colorbar": {
              "outlinewidth": 0,
              "ticks": ""
             }
            },
            "marker": {
             "colorbar": {
              "outlinewidth": 0,
              "ticks": ""
             }
            },
            "type": "scatter3d"
           }
          ],
          "scattercarpet": [
           {
            "marker": {
             "colorbar": {
              "outlinewidth": 0,
              "ticks": ""
             }
            },
            "type": "scattercarpet"
           }
          ],
          "scattergeo": [
           {
            "marker": {
             "colorbar": {
              "outlinewidth": 0,
              "ticks": ""
             }
            },
            "type": "scattergeo"
           }
          ],
          "scattergl": [
           {
            "marker": {
             "colorbar": {
              "outlinewidth": 0,
              "ticks": ""
             }
            },
            "type": "scattergl"
           }
          ],
          "scattermapbox": [
           {
            "marker": {
             "colorbar": {
              "outlinewidth": 0,
              "ticks": ""
             }
            },
            "type": "scattermapbox"
           }
          ],
          "scatterpolar": [
           {
            "marker": {
             "colorbar": {
              "outlinewidth": 0,
              "ticks": ""
             }
            },
            "type": "scatterpolar"
           }
          ],
          "scatterpolargl": [
           {
            "marker": {
             "colorbar": {
              "outlinewidth": 0,
              "ticks": ""
             }
            },
            "type": "scatterpolargl"
           }
          ],
          "scatterternary": [
           {
            "marker": {
             "colorbar": {
              "outlinewidth": 0,
              "ticks": ""
             }
            },
            "type": "scatterternary"
           }
          ],
          "surface": [
           {
            "colorbar": {
             "outlinewidth": 0,
             "ticks": ""
            },
            "colorscale": [
             [
              0,
              "#0d0887"
             ],
             [
              0.1111111111111111,
              "#46039f"
             ],
             [
              0.2222222222222222,
              "#7201a8"
             ],
             [
              0.3333333333333333,
              "#9c179e"
             ],
             [
              0.4444444444444444,
              "#bd3786"
             ],
             [
              0.5555555555555556,
              "#d8576b"
             ],
             [
              0.6666666666666666,
              "#ed7953"
             ],
             [
              0.7777777777777778,
              "#fb9f3a"
             ],
             [
              0.8888888888888888,
              "#fdca26"
             ],
             [
              1,
              "#f0f921"
             ]
            ],
            "type": "surface"
           }
          ],
          "table": [
           {
            "cells": {
             "fill": {
              "color": "#EBF0F8"
             },
             "line": {
              "color": "white"
             }
            },
            "header": {
             "fill": {
              "color": "#C8D4E3"
             },
             "line": {
              "color": "white"
             }
            },
            "type": "table"
           }
          ]
         },
         "layout": {
          "annotationdefaults": {
           "arrowcolor": "#2a3f5f",
           "arrowhead": 0,
           "arrowwidth": 1
          },
          "coloraxis": {
           "colorbar": {
            "outlinewidth": 0,
            "ticks": ""
           }
          },
          "colorscale": {
           "diverging": [
            [
             0,
             "#8e0152"
            ],
            [
             0.1,
             "#c51b7d"
            ],
            [
             0.2,
             "#de77ae"
            ],
            [
             0.3,
             "#f1b6da"
            ],
            [
             0.4,
             "#fde0ef"
            ],
            [
             0.5,
             "#f7f7f7"
            ],
            [
             0.6,
             "#e6f5d0"
            ],
            [
             0.7,
             "#b8e186"
            ],
            [
             0.8,
             "#7fbc41"
            ],
            [
             0.9,
             "#4d9221"
            ],
            [
             1,
             "#276419"
            ]
           ],
           "sequential": [
            [
             0,
             "#0d0887"
            ],
            [
             0.1111111111111111,
             "#46039f"
            ],
            [
             0.2222222222222222,
             "#7201a8"
            ],
            [
             0.3333333333333333,
             "#9c179e"
            ],
            [
             0.4444444444444444,
             "#bd3786"
            ],
            [
             0.5555555555555556,
             "#d8576b"
            ],
            [
             0.6666666666666666,
             "#ed7953"
            ],
            [
             0.7777777777777778,
             "#fb9f3a"
            ],
            [
             0.8888888888888888,
             "#fdca26"
            ],
            [
             1,
             "#f0f921"
            ]
           ],
           "sequentialminus": [
            [
             0,
             "#0d0887"
            ],
            [
             0.1111111111111111,
             "#46039f"
            ],
            [
             0.2222222222222222,
             "#7201a8"
            ],
            [
             0.3333333333333333,
             "#9c179e"
            ],
            [
             0.4444444444444444,
             "#bd3786"
            ],
            [
             0.5555555555555556,
             "#d8576b"
            ],
            [
             0.6666666666666666,
             "#ed7953"
            ],
            [
             0.7777777777777778,
             "#fb9f3a"
            ],
            [
             0.8888888888888888,
             "#fdca26"
            ],
            [
             1,
             "#f0f921"
            ]
           ]
          },
          "colorway": [
           "#636efa",
           "#EF553B",
           "#00cc96",
           "#ab63fa",
           "#FFA15A",
           "#19d3f3",
           "#FF6692",
           "#B6E880",
           "#FF97FF",
           "#FECB52"
          ],
          "font": {
           "color": "#2a3f5f"
          },
          "geo": {
           "bgcolor": "white",
           "lakecolor": "white",
           "landcolor": "#E5ECF6",
           "showlakes": true,
           "showland": true,
           "subunitcolor": "white"
          },
          "hoverlabel": {
           "align": "left"
          },
          "hovermode": "closest",
          "mapbox": {
           "style": "light"
          },
          "paper_bgcolor": "white",
          "plot_bgcolor": "#E5ECF6",
          "polar": {
           "angularaxis": {
            "gridcolor": "white",
            "linecolor": "white",
            "ticks": ""
           },
           "bgcolor": "#E5ECF6",
           "radialaxis": {
            "gridcolor": "white",
            "linecolor": "white",
            "ticks": ""
           }
          },
          "scene": {
           "xaxis": {
            "backgroundcolor": "#E5ECF6",
            "gridcolor": "white",
            "gridwidth": 2,
            "linecolor": "white",
            "showbackground": true,
            "ticks": "",
            "zerolinecolor": "white"
           },
           "yaxis": {
            "backgroundcolor": "#E5ECF6",
            "gridcolor": "white",
            "gridwidth": 2,
            "linecolor": "white",
            "showbackground": true,
            "ticks": "",
            "zerolinecolor": "white"
           },
           "zaxis": {
            "backgroundcolor": "#E5ECF6",
            "gridcolor": "white",
            "gridwidth": 2,
            "linecolor": "white",
            "showbackground": true,
            "ticks": "",
            "zerolinecolor": "white"
           }
          },
          "shapedefaults": {
           "line": {
            "color": "#2a3f5f"
           }
          },
          "ternary": {
           "aaxis": {
            "gridcolor": "white",
            "linecolor": "white",
            "ticks": ""
           },
           "baxis": {
            "gridcolor": "white",
            "linecolor": "white",
            "ticks": ""
           },
           "bgcolor": "#E5ECF6",
           "caxis": {
            "gridcolor": "white",
            "linecolor": "white",
            "ticks": ""
           }
          },
          "title": {
           "x": 0.05
          },
          "xaxis": {
           "automargin": true,
           "gridcolor": "white",
           "linecolor": "white",
           "ticks": "",
           "title": {
            "standoff": 15
           },
           "zerolinecolor": "white",
           "zerolinewidth": 2
          },
          "yaxis": {
           "automargin": true,
           "gridcolor": "white",
           "linecolor": "white",
           "ticks": "",
           "title": {
            "standoff": 15
           },
           "zerolinecolor": "white",
           "zerolinewidth": 2
          }
         }
        },
        "xaxis": {
         "title": {
          "text": "Time"
         }
        },
        "yaxis": {
         "title": {
          "text": "Incidence Number"
         }
        }
       }
      }
     },
     "metadata": {}
    }
   ],
   "source": [
    "# Scale data in units of 100k\n",
    "data = seirmo.DatasetLibrary().french_flu()\n",
    "test_data = data.rename(columns={'time_index': 'Time', 'inc': 'Incidence Number'})\n",
    "test_data['Incidence Number'] = test_data['Incidence Number'] / 1e6\n",
    "\n",
    "fig = seirmo.plots.IncidenceNumberPlot()\n",
    "fig.add_data(test_data.loc[0:30])\n",
    "fig.show()"
   ]
  },
  {
   "source": [
    "## Infer parameters"
   ],
   "cell_type": "markdown",
   "metadata": {}
  },
  {
   "cell_type": "code",
   "execution_count": 36,
   "metadata": {},
   "outputs": [
    {
     "output_type": "stream",
     "name": "stdout",
     "text": [
      "Maximising LogPDF\n",
      "Using Covariance Matrix Adaptation Evolution Strategy (CMA-ES)\n",
      "Running in sequential mode.\n",
      "Population size: 10\n",
      "Iter. Eval. Best      Time m:s\n",
      "0     10    -1295.991   0:01.0\n",
      "1     20    -1233.902   0:02.0\n",
      "2     30    -1148.346   0:03.0\n",
      "3     40    -1076.335   0:04.0\n",
      "20    210    1148.955   0:16.0\n",
      "40    410    1152.511   0:28.7\n",
      "60    610    1155.307   0:42.1\n",
      "80    810    1155.816   0:55.7\n",
      "100   1010   1156.009   1:13.1\n",
      "120   1210   1156.142   1:26.3\n",
      "140   1410   1156.425   1:39.9\n",
      "160   1610   1157.825   1:52.8\n",
      "180   1810   1164.129   2:02.7\n",
      "200   2010   1166.806   2:14.3\n",
      "220   2210   1167.76    2:24.6\n",
      "240   2410   1167.951   2:33.6\n",
      "260   2610   1168.001   2:45.4\n",
      "280   2810   1168.07    2:56.3\n",
      "300   3010   1168.228   3:06.4\n",
      "320   3210   1168.295   3:16.8\n",
      "340   3410   1168.355   3:26.0\n",
      "360   3610   1168.366   3:35.1\n",
      "380   3810   1168.371   3:44.1\n",
      "400   4010   1168.382   3:54.1\n",
      "420   4210   1168.39    4:03.4\n",
      "440   4410   1168.403   4:14.0\n",
      "460   4610   1168.423   4:22.5\n",
      "480   4810   1168.426   4:33.6\n",
      "500   5010   1168.428   4:44.5\n",
      "520   5210   1168.43    4:55.2\n",
      "540   5410   1168.432   5:07.3\n",
      "560   5610   1168.434   5:19.1\n",
      "580   5810   1168.436   5:29.4\n",
      "600   6010   1168.437   5:41.5\n",
      "620   6210   1168.439   5:54.3\n",
      "640   6410   1168.439   6:04.9\n",
      "660   6610   1168.439   6:16.7\n",
      "680   6810   1168.44    6:29.0\n",
      "700   7010   1168.44    6:41.8\n",
      "720   7210   1168.44    6:56.0\n",
      "740   7410   1168.44    7:08.5\n",
      "760   7610   1168.44    7:21.7\n",
      "780   7810   1168.44    7:33.8\n",
      "800   8010   1168.44    7:44.3\n",
      "820   8210   1168.44    7:56.1\n",
      "840   8410   1168.44    8:07.3\n",
      "860   8610   1168.44    8:20.0\n",
      "880   8810   1168.44    8:30.2\n",
      "900   9010   1168.44    8:42.6\n",
      "920   9210   1168.44    8:52.4\n",
      "940   9410   1168.44    9:04.7\n",
      "960   9610   1168.44    9:16.8\n",
      "980   9810   1168.44    9:29.1\n",
      "1000  10010  1168.44    9:39.7\n",
      "1020  10210  1168.44    9:53.4\n",
      "\n",
      "----------------------------------------\n",
      "Unexpected termination.\n",
      "Current best score: -1168.4400859098205\n",
      "Current best position:\n",
      " 9.99999994445183060e-01\n",
      " 9.99999999752820057e-01\n",
      " 9.99999996449171258e-01\n",
      " 9.99999993216515892e-01\n",
      " 9.99999995302654487e-01\n",
      " 7.34148183970927126e-02\n",
      " 9.59059764441784313e-01\n",
      " 1.29550130657142631e-01\n",
      "----------------------------------------\n"
     ]
    },
    {
     "output_type": "error",
     "ename": "KeyboardInterrupt",
     "evalue": "",
     "traceback": [
      "\u001b[0;31m---------------------------------------------------------------------------\u001b[0m",
      "\u001b[0;31mKeyboardInterrupt\u001b[0m                         Traceback (most recent call last)",
      "\u001b[0;32m<ipython-input-36-0be859d94568>\u001b[0m in \u001b[0;36m<module>\u001b[0;34m\u001b[0m\n\u001b[1;32m     33\u001b[0m         transform=transformations)\n\u001b[1;32m     34\u001b[0m \u001b[0;34m\u001b[0m\u001b[0m\n\u001b[0;32m---> 35\u001b[0;31m     \u001b[0mestimates\u001b[0m\u001b[0;34m[\u001b[0m\u001b[0mrun_id\u001b[0m\u001b[0;34m]\u001b[0m \u001b[0;34m=\u001b[0m \u001b[0mopt\u001b[0m\u001b[0;34m.\u001b[0m\u001b[0mrun\u001b[0m\u001b[0;34m(\u001b[0m\u001b[0;34m)\u001b[0m\u001b[0;34m\u001b[0m\u001b[0;34m\u001b[0m\u001b[0m\n\u001b[0m",
      "\u001b[0;32m~/Workspace/sabs-r3/epidemiology-app/seirmo/venv/lib/python3.7/site-packages/pints/_optimisers/__init__.py\u001b[0m in \u001b[0;36mrun\u001b[0;34m(self)\u001b[0m\n\u001b[1;32m    556\u001b[0m \u001b[0;34m\u001b[0m\u001b[0m\n\u001b[1;32m    557\u001b[0m                 \u001b[0;31m# Calculate scores\u001b[0m\u001b[0;34m\u001b[0m\u001b[0;34m\u001b[0m\u001b[0;34m\u001b[0m\u001b[0m\n\u001b[0;32m--> 558\u001b[0;31m                 \u001b[0mfs\u001b[0m \u001b[0;34m=\u001b[0m \u001b[0mevaluator\u001b[0m\u001b[0;34m.\u001b[0m\u001b[0mevaluate\u001b[0m\u001b[0;34m(\u001b[0m\u001b[0mxs\u001b[0m\u001b[0;34m)\u001b[0m\u001b[0;34m\u001b[0m\u001b[0;34m\u001b[0m\u001b[0m\n\u001b[0m\u001b[1;32m    559\u001b[0m \u001b[0;34m\u001b[0m\u001b[0m\n\u001b[1;32m    560\u001b[0m                 \u001b[0;31m# Perform iteration\u001b[0m\u001b[0;34m\u001b[0m\u001b[0;34m\u001b[0m\u001b[0;34m\u001b[0m\u001b[0m\n",
      "\u001b[0;32m~/Workspace/sabs-r3/epidemiology-app/seirmo/venv/lib/python3.7/site-packages/pints/_evaluation.py\u001b[0m in \u001b[0;36mevaluate\u001b[0;34m(self, positions)\u001b[0m\n\u001b[1;32m    104\u001b[0m                 \u001b[0;34m'The argument `positions` must be a sequence of input values'\u001b[0m\u001b[0;34m\u001b[0m\u001b[0;34m\u001b[0m\u001b[0m\n\u001b[1;32m    105\u001b[0m                 ' to the evaluator\\'s function.')\n\u001b[0;32m--> 106\u001b[0;31m         \u001b[0;32mreturn\u001b[0m \u001b[0mself\u001b[0m\u001b[0;34m.\u001b[0m\u001b[0m_evaluate\u001b[0m\u001b[0;34m(\u001b[0m\u001b[0mpositions\u001b[0m\u001b[0;34m)\u001b[0m\u001b[0;34m\u001b[0m\u001b[0;34m\u001b[0m\u001b[0m\n\u001b[0m\u001b[1;32m    107\u001b[0m \u001b[0;34m\u001b[0m\u001b[0m\n\u001b[1;32m    108\u001b[0m     \u001b[0;32mdef\u001b[0m \u001b[0m_evaluate\u001b[0m\u001b[0;34m(\u001b[0m\u001b[0mself\u001b[0m\u001b[0;34m,\u001b[0m \u001b[0mpositions\u001b[0m\u001b[0;34m)\u001b[0m\u001b[0;34m:\u001b[0m\u001b[0;34m\u001b[0m\u001b[0;34m\u001b[0m\u001b[0m\n",
      "\u001b[0;32m~/Workspace/sabs-r3/epidemiology-app/seirmo/venv/lib/python3.7/site-packages/pints/_evaluation.py\u001b[0m in \u001b[0;36m_evaluate\u001b[0;34m(self, positions)\u001b[0m\n\u001b[1;32m    396\u001b[0m         \u001b[0mscores\u001b[0m \u001b[0;34m=\u001b[0m \u001b[0;34m[\u001b[0m\u001b[0;36m0\u001b[0m\u001b[0;34m]\u001b[0m \u001b[0;34m*\u001b[0m \u001b[0mlen\u001b[0m\u001b[0;34m(\u001b[0m\u001b[0mpositions\u001b[0m\u001b[0;34m)\u001b[0m\u001b[0;34m\u001b[0m\u001b[0;34m\u001b[0m\u001b[0m\n\u001b[1;32m    397\u001b[0m         \u001b[0;32mfor\u001b[0m \u001b[0mk\u001b[0m\u001b[0;34m,\u001b[0m \u001b[0mx\u001b[0m \u001b[0;32min\u001b[0m \u001b[0menumerate\u001b[0m\u001b[0;34m(\u001b[0m\u001b[0mpositions\u001b[0m\u001b[0;34m)\u001b[0m\u001b[0;34m:\u001b[0m\u001b[0;34m\u001b[0m\u001b[0;34m\u001b[0m\u001b[0m\n\u001b[0;32m--> 398\u001b[0;31m             \u001b[0mscores\u001b[0m\u001b[0;34m[\u001b[0m\u001b[0mk\u001b[0m\u001b[0;34m]\u001b[0m \u001b[0;34m=\u001b[0m \u001b[0mself\u001b[0m\u001b[0;34m.\u001b[0m\u001b[0m_function\u001b[0m\u001b[0;34m(\u001b[0m\u001b[0mx\u001b[0m\u001b[0;34m,\u001b[0m \u001b[0;34m*\u001b[0m\u001b[0mself\u001b[0m\u001b[0;34m.\u001b[0m\u001b[0m_args\u001b[0m\u001b[0;34m)\u001b[0m\u001b[0;34m\u001b[0m\u001b[0;34m\u001b[0m\u001b[0m\n\u001b[0m\u001b[1;32m    399\u001b[0m         \u001b[0;32mreturn\u001b[0m \u001b[0mscores\u001b[0m\u001b[0;34m\u001b[0m\u001b[0;34m\u001b[0m\u001b[0m\n\u001b[1;32m    400\u001b[0m \u001b[0;34m\u001b[0m\u001b[0m\n",
      "\u001b[0;32m~/Workspace/sabs-r3/epidemiology-app/seirmo/venv/lib/python3.7/site-packages/pints/_error_measures.py\u001b[0m in \u001b[0;36m__call__\u001b[0;34m(self, x)\u001b[0m\n\u001b[1;32m    176\u001b[0m \u001b[0;34m\u001b[0m\u001b[0m\n\u001b[1;32m    177\u001b[0m     \u001b[0;32mdef\u001b[0m \u001b[0m__call__\u001b[0m\u001b[0;34m(\u001b[0m\u001b[0mself\u001b[0m\u001b[0;34m,\u001b[0m \u001b[0mx\u001b[0m\u001b[0;34m)\u001b[0m\u001b[0;34m:\u001b[0m\u001b[0;34m\u001b[0m\u001b[0;34m\u001b[0m\u001b[0m\n\u001b[0;32m--> 178\u001b[0;31m         \u001b[0;32mreturn\u001b[0m \u001b[0;34m-\u001b[0m\u001b[0mself\u001b[0m\u001b[0;34m.\u001b[0m\u001b[0m_log_pdf\u001b[0m\u001b[0;34m(\u001b[0m\u001b[0mx\u001b[0m\u001b[0;34m)\u001b[0m\u001b[0;34m\u001b[0m\u001b[0;34m\u001b[0m\u001b[0m\n\u001b[0m\u001b[1;32m    179\u001b[0m \u001b[0;34m\u001b[0m\u001b[0m\n\u001b[1;32m    180\u001b[0m     \u001b[0;32mdef\u001b[0m \u001b[0mevaluateS1\u001b[0m\u001b[0;34m(\u001b[0m\u001b[0mself\u001b[0m\u001b[0;34m,\u001b[0m \u001b[0mx\u001b[0m\u001b[0;34m)\u001b[0m\u001b[0;34m:\u001b[0m\u001b[0;34m\u001b[0m\u001b[0;34m\u001b[0m\u001b[0m\n",
      "\u001b[0;32m~/Workspace/sabs-r3/epidemiology-app/seirmo/venv/lib/python3.7/site-packages/pints/_transformation.py\u001b[0m in \u001b[0;36m__call__\u001b[0;34m(self, q)\u001b[0m\n\u001b[1;32m   1061\u001b[0m \u001b[0;34m\u001b[0m\u001b[0m\n\u001b[1;32m   1062\u001b[0m         \u001b[0;31m# Compute LogPDF in the model space\u001b[0m\u001b[0;34m\u001b[0m\u001b[0;34m\u001b[0m\u001b[0;34m\u001b[0m\u001b[0m\n\u001b[0;32m-> 1063\u001b[0;31m         \u001b[0mlogpdf_nojac\u001b[0m \u001b[0;34m=\u001b[0m \u001b[0mself\u001b[0m\u001b[0;34m.\u001b[0m\u001b[0m_log_pdf\u001b[0m\u001b[0;34m(\u001b[0m\u001b[0mp\u001b[0m\u001b[0;34m)\u001b[0m\u001b[0;34m\u001b[0m\u001b[0;34m\u001b[0m\u001b[0m\n\u001b[0m\u001b[1;32m   1064\u001b[0m \u001b[0;34m\u001b[0m\u001b[0m\n\u001b[1;32m   1065\u001b[0m         \u001b[0;31m# Calculate the PDF using change of variable\u001b[0m\u001b[0;34m\u001b[0m\u001b[0;34m\u001b[0m\u001b[0;34m\u001b[0m\u001b[0m\n",
      "\u001b[0;32m~/Workspace/sabs-r3/epidemiology-app/seirmo/venv/lib/python3.7/site-packages/pints/_log_pdfs.py\u001b[0m in \u001b[0;36m__call__\u001b[0;34m(self, x)\u001b[0m\n\u001b[1;32m    385\u001b[0m         \u001b[0;32mif\u001b[0m \u001b[0mlog_prior\u001b[0m \u001b[0;34m==\u001b[0m \u001b[0mself\u001b[0m\u001b[0;34m.\u001b[0m\u001b[0m_minf\u001b[0m\u001b[0;34m:\u001b[0m\u001b[0;34m\u001b[0m\u001b[0;34m\u001b[0m\u001b[0m\n\u001b[1;32m    386\u001b[0m             \u001b[0;32mreturn\u001b[0m \u001b[0mself\u001b[0m\u001b[0;34m.\u001b[0m\u001b[0m_minf\u001b[0m\u001b[0;34m\u001b[0m\u001b[0;34m\u001b[0m\u001b[0m\n\u001b[0;32m--> 387\u001b[0;31m         \u001b[0;32mreturn\u001b[0m \u001b[0mlog_prior\u001b[0m \u001b[0;34m+\u001b[0m \u001b[0mself\u001b[0m\u001b[0;34m.\u001b[0m\u001b[0m_log_likelihood\u001b[0m\u001b[0;34m(\u001b[0m\u001b[0mx\u001b[0m\u001b[0;34m)\u001b[0m\u001b[0;34m\u001b[0m\u001b[0;34m\u001b[0m\u001b[0m\n\u001b[0m\u001b[1;32m    388\u001b[0m \u001b[0;34m\u001b[0m\u001b[0m\n\u001b[1;32m    389\u001b[0m     \u001b[0;32mdef\u001b[0m \u001b[0mevaluateS1\u001b[0m\u001b[0;34m(\u001b[0m\u001b[0mself\u001b[0m\u001b[0;34m,\u001b[0m \u001b[0mx\u001b[0m\u001b[0;34m)\u001b[0m\u001b[0;34m:\u001b[0m\u001b[0;34m\u001b[0m\u001b[0;34m\u001b[0m\u001b[0m\n",
      "\u001b[0;32m~/Workspace/sabs-r3/epidemiology-app/seirmo/venv/lib/python3.7/site-packages/pints/_log_likelihoods.py\u001b[0m in \u001b[0;36m__call__\u001b[0;34m(self, x)\u001b[0m\n\u001b[1;32m    736\u001b[0m     \u001b[0;32mdef\u001b[0m \u001b[0m__call__\u001b[0m\u001b[0;34m(\u001b[0m\u001b[0mself\u001b[0m\u001b[0;34m,\u001b[0m \u001b[0mx\u001b[0m\u001b[0;34m)\u001b[0m\u001b[0;34m:\u001b[0m\u001b[0;34m\u001b[0m\u001b[0;34m\u001b[0m\u001b[0m\n\u001b[1;32m    737\u001b[0m         \u001b[0msigma\u001b[0m \u001b[0;34m=\u001b[0m \u001b[0mnp\u001b[0m\u001b[0;34m.\u001b[0m\u001b[0masarray\u001b[0m\u001b[0;34m(\u001b[0m\u001b[0mx\u001b[0m\u001b[0;34m[\u001b[0m\u001b[0;34m-\u001b[0m\u001b[0mself\u001b[0m\u001b[0;34m.\u001b[0m\u001b[0m_no\u001b[0m\u001b[0;34m:\u001b[0m\u001b[0;34m]\u001b[0m\u001b[0;34m)\u001b[0m\u001b[0;34m\u001b[0m\u001b[0;34m\u001b[0m\u001b[0m\n\u001b[0;32m--> 738\u001b[0;31m         \u001b[0merror\u001b[0m \u001b[0;34m=\u001b[0m \u001b[0mself\u001b[0m\u001b[0;34m.\u001b[0m\u001b[0m_values\u001b[0m \u001b[0;34m-\u001b[0m \u001b[0mself\u001b[0m\u001b[0;34m.\u001b[0m\u001b[0m_problem\u001b[0m\u001b[0;34m.\u001b[0m\u001b[0mevaluate\u001b[0m\u001b[0;34m(\u001b[0m\u001b[0mx\u001b[0m\u001b[0;34m[\u001b[0m\u001b[0;34m:\u001b[0m\u001b[0;34m-\u001b[0m\u001b[0mself\u001b[0m\u001b[0;34m.\u001b[0m\u001b[0m_no\u001b[0m\u001b[0;34m]\u001b[0m\u001b[0;34m)\u001b[0m\u001b[0;34m\u001b[0m\u001b[0;34m\u001b[0m\u001b[0m\n\u001b[0m\u001b[1;32m    739\u001b[0m         return np.sum(- self._logn - self._nt * np.log(sigma)\n\u001b[1;32m    740\u001b[0m                       - np.sum(error**2, axis=0) / (2 * sigma**2))\n",
      "\u001b[0;32m~/Workspace/sabs-r3/epidemiology-app/seirmo/venv/lib/python3.7/site-packages/pints/_core.py\u001b[0m in \u001b[0;36mevaluate\u001b[0;34m(self, parameters)\u001b[0m\n\u001b[1;32m    152\u001b[0m         \u001b[0mvalues\u001b[0m \u001b[0;32mas\u001b[0m \u001b[0ma\u001b[0m \u001b[0mNumPy\u001b[0m \u001b[0marray\u001b[0m \u001b[0mof\u001b[0m \u001b[0mshape\u001b[0m\u001b[0;31m \u001b[0m\u001b[0;31m`\u001b[0m\u001b[0;31m`\u001b[0m\u001b[0;34m(\u001b[0m\u001b[0mn_times\u001b[0m\u001b[0;34m,\u001b[0m\u001b[0;34m)\u001b[0m\u001b[0;31m`\u001b[0m\u001b[0;31m`\u001b[0m\u001b[0;34m.\u001b[0m\u001b[0;34m\u001b[0m\u001b[0;34m\u001b[0m\u001b[0m\n\u001b[1;32m    153\u001b[0m         \"\"\"\n\u001b[0;32m--> 154\u001b[0;31m         \u001b[0my\u001b[0m \u001b[0;34m=\u001b[0m \u001b[0mnp\u001b[0m\u001b[0;34m.\u001b[0m\u001b[0masarray\u001b[0m\u001b[0;34m(\u001b[0m\u001b[0mself\u001b[0m\u001b[0;34m.\u001b[0m\u001b[0m_model\u001b[0m\u001b[0;34m.\u001b[0m\u001b[0msimulate\u001b[0m\u001b[0;34m(\u001b[0m\u001b[0mparameters\u001b[0m\u001b[0;34m,\u001b[0m \u001b[0mself\u001b[0m\u001b[0;34m.\u001b[0m\u001b[0m_times\u001b[0m\u001b[0;34m)\u001b[0m\u001b[0;34m)\u001b[0m\u001b[0;34m\u001b[0m\u001b[0;34m\u001b[0m\u001b[0m\n\u001b[0m\u001b[1;32m    155\u001b[0m         \u001b[0;32mreturn\u001b[0m \u001b[0my\u001b[0m\u001b[0;34m.\u001b[0m\u001b[0mreshape\u001b[0m\u001b[0;34m(\u001b[0m\u001b[0;34m(\u001b[0m\u001b[0mself\u001b[0m\u001b[0;34m.\u001b[0m\u001b[0m_n_times\u001b[0m\u001b[0;34m,\u001b[0m\u001b[0;34m)\u001b[0m\u001b[0;34m)\u001b[0m\u001b[0;34m\u001b[0m\u001b[0;34m\u001b[0m\u001b[0m\n\u001b[1;32m    156\u001b[0m \u001b[0;34m\u001b[0m\u001b[0m\n",
      "\u001b[0;32m~/Workspace/sabs-r3/epidemiology-app/seirmo/seirmo/_models.py\u001b[0m in \u001b[0;36msimulate\u001b[0;34m(self, parameters, times)\u001b[0m\n\u001b[1;32m    166\u001b[0m         \u001b[0;31m# Solve the system of ODEs\u001b[0m\u001b[0;34m\u001b[0m\u001b[0;34m\u001b[0m\u001b[0;34m\u001b[0m\u001b[0m\n\u001b[1;32m    167\u001b[0m         sol = solve_ivp(lambda t, y: self._right_hand_side(t, y, c),\n\u001b[0;32m--> 168\u001b[0;31m                         [times[0], times[-1]], y_init, t_eval=times)\n\u001b[0m\u001b[1;32m    169\u001b[0m \u001b[0;34m\u001b[0m\u001b[0m\n\u001b[1;32m    170\u001b[0m         \u001b[0moutput\u001b[0m \u001b[0;34m=\u001b[0m \u001b[0msol\u001b[0m\u001b[0;34m[\u001b[0m\u001b[0;34m'y'\u001b[0m\u001b[0;34m]\u001b[0m\u001b[0;34m\u001b[0m\u001b[0;34m\u001b[0m\u001b[0m\n",
      "\u001b[0;32m~/Workspace/sabs-r3/epidemiology-app/seirmo/venv/lib/python3.7/site-packages/scipy/integrate/_ivp/ivp.py\u001b[0m in \u001b[0;36msolve_ivp\u001b[0;34m(fun, t_span, y0, method, t_eval, dense_output, events, vectorized, args, **options)\u001b[0m\n\u001b[1;32m    574\u001b[0m     \u001b[0mstatus\u001b[0m \u001b[0;34m=\u001b[0m \u001b[0;32mNone\u001b[0m\u001b[0;34m\u001b[0m\u001b[0;34m\u001b[0m\u001b[0m\n\u001b[1;32m    575\u001b[0m     \u001b[0;32mwhile\u001b[0m \u001b[0mstatus\u001b[0m \u001b[0;32mis\u001b[0m \u001b[0;32mNone\u001b[0m\u001b[0;34m:\u001b[0m\u001b[0;34m\u001b[0m\u001b[0;34m\u001b[0m\u001b[0m\n\u001b[0;32m--> 576\u001b[0;31m         \u001b[0mmessage\u001b[0m \u001b[0;34m=\u001b[0m \u001b[0msolver\u001b[0m\u001b[0;34m.\u001b[0m\u001b[0mstep\u001b[0m\u001b[0;34m(\u001b[0m\u001b[0;34m)\u001b[0m\u001b[0;34m\u001b[0m\u001b[0;34m\u001b[0m\u001b[0m\n\u001b[0m\u001b[1;32m    577\u001b[0m \u001b[0;34m\u001b[0m\u001b[0m\n\u001b[1;32m    578\u001b[0m         \u001b[0;32mif\u001b[0m \u001b[0msolver\u001b[0m\u001b[0;34m.\u001b[0m\u001b[0mstatus\u001b[0m \u001b[0;34m==\u001b[0m \u001b[0;34m'finished'\u001b[0m\u001b[0;34m:\u001b[0m\u001b[0;34m\u001b[0m\u001b[0;34m\u001b[0m\u001b[0m\n",
      "\u001b[0;32m~/Workspace/sabs-r3/epidemiology-app/seirmo/venv/lib/python3.7/site-packages/scipy/integrate/_ivp/base.py\u001b[0m in \u001b[0;36mstep\u001b[0;34m(self)\u001b[0m\n\u001b[1;32m    179\u001b[0m         \u001b[0;32melse\u001b[0m\u001b[0;34m:\u001b[0m\u001b[0;34m\u001b[0m\u001b[0;34m\u001b[0m\u001b[0m\n\u001b[1;32m    180\u001b[0m             \u001b[0mt\u001b[0m \u001b[0;34m=\u001b[0m \u001b[0mself\u001b[0m\u001b[0;34m.\u001b[0m\u001b[0mt\u001b[0m\u001b[0;34m\u001b[0m\u001b[0;34m\u001b[0m\u001b[0m\n\u001b[0;32m--> 181\u001b[0;31m             \u001b[0msuccess\u001b[0m\u001b[0;34m,\u001b[0m \u001b[0mmessage\u001b[0m \u001b[0;34m=\u001b[0m \u001b[0mself\u001b[0m\u001b[0;34m.\u001b[0m\u001b[0m_step_impl\u001b[0m\u001b[0;34m(\u001b[0m\u001b[0;34m)\u001b[0m\u001b[0;34m\u001b[0m\u001b[0;34m\u001b[0m\u001b[0m\n\u001b[0m\u001b[1;32m    182\u001b[0m \u001b[0;34m\u001b[0m\u001b[0m\n\u001b[1;32m    183\u001b[0m             \u001b[0;32mif\u001b[0m \u001b[0;32mnot\u001b[0m \u001b[0msuccess\u001b[0m\u001b[0;34m:\u001b[0m\u001b[0;34m\u001b[0m\u001b[0;34m\u001b[0m\u001b[0m\n",
      "\u001b[0;32m~/Workspace/sabs-r3/epidemiology-app/seirmo/venv/lib/python3.7/site-packages/scipy/integrate/_ivp/rk.py\u001b[0m in \u001b[0;36m_step_impl\u001b[0;34m(self)\u001b[0m\n\u001b[1;32m    117\u001b[0m         \u001b[0matol\u001b[0m \u001b[0;34m=\u001b[0m \u001b[0mself\u001b[0m\u001b[0;34m.\u001b[0m\u001b[0matol\u001b[0m\u001b[0;34m\u001b[0m\u001b[0;34m\u001b[0m\u001b[0m\n\u001b[1;32m    118\u001b[0m \u001b[0;34m\u001b[0m\u001b[0m\n\u001b[0;32m--> 119\u001b[0;31m         \u001b[0mmin_step\u001b[0m \u001b[0;34m=\u001b[0m \u001b[0;36m10\u001b[0m \u001b[0;34m*\u001b[0m \u001b[0mnp\u001b[0m\u001b[0;34m.\u001b[0m\u001b[0mabs\u001b[0m\u001b[0;34m(\u001b[0m\u001b[0mnp\u001b[0m\u001b[0;34m.\u001b[0m\u001b[0mnextafter\u001b[0m\u001b[0;34m(\u001b[0m\u001b[0mt\u001b[0m\u001b[0;34m,\u001b[0m \u001b[0mself\u001b[0m\u001b[0;34m.\u001b[0m\u001b[0mdirection\u001b[0m \u001b[0;34m*\u001b[0m \u001b[0mnp\u001b[0m\u001b[0;34m.\u001b[0m\u001b[0minf\u001b[0m\u001b[0;34m)\u001b[0m \u001b[0;34m-\u001b[0m \u001b[0mt\u001b[0m\u001b[0;34m)\u001b[0m\u001b[0;34m\u001b[0m\u001b[0;34m\u001b[0m\u001b[0m\n\u001b[0m\u001b[1;32m    120\u001b[0m \u001b[0;34m\u001b[0m\u001b[0m\n\u001b[1;32m    121\u001b[0m         \u001b[0;32mif\u001b[0m \u001b[0mself\u001b[0m\u001b[0;34m.\u001b[0m\u001b[0mh_abs\u001b[0m \u001b[0;34m>\u001b[0m \u001b[0mmax_step\u001b[0m\u001b[0;34m:\u001b[0m\u001b[0;34m\u001b[0m\u001b[0;34m\u001b[0m\u001b[0m\n",
      "\u001b[0;31mKeyboardInterrupt\u001b[0m: "
     ]
    }
   ],
   "source": [
    "import numpy as np\n",
    "import pints\n",
    "\n",
    "# Create inverse problem\n",
    "model.set_outputs(['Incidence'])\n",
    "problem = pints.SingleOutputProblem(\n",
    "    model=model, \n",
    "    times=test_data['Time'].to_numpy(),\n",
    "    values=test_data['Incidence Number'].to_numpy())\n",
    "log_likelihood = pints.GaussianLogLikelihood(problem)\n",
    "log_prior = pints.ComposedLogPrior(\n",
    "    pints.UniformLogPrior(0, 1),\n",
    "    pints.UniformLogPrior(0, 1),\n",
    "    pints.UniformLogPrior(0, 1),\n",
    "    pints.UniformLogPrior(0, 1),\n",
    "    pints.UniformLogPrior(0, 1),\n",
    "    pints.UniformLogPrior(0, 1),\n",
    "    pints.UniformLogPrior(0, 1),\n",
    "    pints.UniformLogPrior(0, 1))\n",
    "log_posterior = pints.LogPosterior(log_likelihood, log_prior)\n",
    "\n",
    "# Run inference\n",
    "n_runs = 1\n",
    "transformations = pints.LogTransformation(log_posterior.n_parameters())\n",
    "\n",
    "estimates = np.empty(shape=(n_runs, log_posterior.n_parameters()))\n",
    "for run_id in range(n_runs):\n",
    "    initial_parameters = log_prior.sample()\n",
    "    opt = pints.OptimisationController(\n",
    "        function=log_posterior,\n",
    "        x0=initial_parameters,\n",
    "        method=pints.CMAES,\n",
    "        transform=transformations)\n",
    "\n",
    "    estimates[run_id] = opt.run()"
   ]
  },
  {
   "cell_type": "code",
   "execution_count": 35,
   "metadata": {},
   "outputs": [
    {
     "output_type": "stream",
     "name": "stdout",
     "text": [
      "14.9 ms ± 754 µs per loop (mean ± std. dev. of 7 runs, 100 loops each)\n"
     ]
    }
   ],
   "source": [
    "%%timeit\n",
    "model.simulate(np.array([0.1, 0.1, 0.1, 0.1, 0.1, 0.1, 0.1]), test_data['Time'].to_numpy())"
   ]
  },
  {
   "cell_type": "code",
   "execution_count": 7,
   "metadata": {},
   "outputs": [
    {
     "output_type": "execute_result",
     "data": {
      "text/plain": [
       "array([1.26828906, 2.1567411 , 3.94264152, 2.14637825, 8.87084302,\n",
       "       3.93934852, 9.05002   , 0.7038902 ])"
      ]
     },
     "metadata": {},
     "execution_count": 7
    }
   ],
   "source": [
    "initial_parameters[0]"
   ]
  },
  {
   "cell_type": "code",
   "execution_count": 27,
   "metadata": {},
   "outputs": [
    {
     "output_type": "stream",
     "name": "stdout",
     "text": [
      "[[model]]\n# Initial values\nmyokit.susceptible =  1.26828906000000008\nmyokit.exposed     = 2.1567411\nmyokit.infected    =  3.94264152000000001\nmyokit.recovered   =  2.14637825000000015\n\n[myokit]\ndot(exposed) = infection_rate * susceptible * infected - incubation_rate * exposed\nincubation_rate =  3.93934851999999980\ndot(infected) = incubation_rate * exposed - recovery_rate * infected\ninfection_rate =  8.87084302000000058\ndot(recovered) = recovery_rate * infected\nrecovery_rate = 9.05002\ndot(susceptible) = -infection_rate * susceptible * infected\ntime = 0 bind time\n\n\n"
     ]
    }
   ],
   "source": [
    "import myokit\n",
    "\n",
    "# Create model\n",
    "myokit_model = myokit.Model()\n",
    "\n",
    "# Create states and parameters\n",
    "comp = myokit_model.add_component('myokit')\n",
    "s = comp.add_variable('susceptible')\n",
    "e = comp.add_variable('exposed')\n",
    "i = comp.add_variable('infected')\n",
    "r = comp.add_variable('recovered')\n",
    "incubation_rate = comp.add_variable('incubation_rate')\n",
    "infection_rate = comp.add_variable('infection_rate')\n",
    "recovery_rate = comp.add_variable('recovery_rate')\n",
    "time = comp.add_variable('time')\n",
    "\n",
    "# Bind time variable\n",
    "time.set_binding('time')\n",
    "\n",
    "# Set parameter values\n",
    "infection_rate.set_rhs(0.1)\n",
    "incubation_rate.set_rhs(0.1)\n",
    "recovery_rate.set_rhs(0.1)\n",
    "\n",
    "# Set RHS of states\n",
    "s.promote(1.26828906)\n",
    "s.set_rhs(\n",
    "    myokit.Multiply(\n",
    "        myokit.Multiply(\n",
    "            myokit.PrefixMinus(myokit.Name(infection_rate)),\n",
    "            myokit.Name(s)),\n",
    "        myokit.Name(i)))\n",
    "e.promote(2.1567411)\n",
    "e.set_rhs(\n",
    "    myokit.Minus(\n",
    "        myokit.Multiply(\n",
    "            myokit.Multiply(\n",
    "                myokit.Name(infection_rate),\n",
    "                myokit.Name(s)),\n",
    "            myokit.Name(i)),\n",
    "        myokit.Multiply(\n",
    "            myokit.Name(incubation_rate),\n",
    "            myokit.Name(e))))\n",
    "i.promote(3.94264152)\n",
    "i.set_rhs(\n",
    "    myokit.Minus(\n",
    "        myokit.Multiply(\n",
    "            myokit.Name(incubation_rate),\n",
    "            myokit.Name(e)),\n",
    "        myokit.Multiply(\n",
    "            myokit.Name(recovery_rate),\n",
    "            myokit.Name(i))))\n",
    "r.promote(2.14637825)\n",
    "r.set_rhs(\n",
    "    myokit.Multiply(\n",
    "        myokit.Name(recovery_rate),\n",
    "        myokit.Name(i)))\n",
    "time.set_rhs(0)\n",
    "\n",
    "\n",
    "print(myokit_model.code())"
   ]
  },
  {
   "cell_type": "code",
   "execution_count": 29,
   "metadata": {},
   "outputs": [],
   "source": [
    "sim = myokit.Simulation(myokit_model)"
   ]
  },
  {
   "cell_type": "code",
   "execution_count": 30,
   "metadata": {},
   "outputs": [
    {
     "output_type": "execute_result",
     "data": {
      "text/plain": [
       "-11, 4.84087089284728e-11, -1.8378407985332386e-12, -3.1905158948323907e-12, -2.1190675126354322e-13, -1.8286704607634126e-13])),\n",
       "         ('myokit.recovered',\n",
       "          array('d', [2.14637825, 2.154960305910165, 2.1635281789472733, 2.181450517015848, 2.19931795651155, 2.217126264411587, 2.2499475069706008, 2.345720237403279, 2.392522733346934, 2.4389055421394583, 2.48487611892039, 2.5540544207930114, 2.622315968552433, 2.689685353203739, 2.8021871219219228, 2.9122726761516033, 3.020032826012917, 3.1255510239438, 3.2289048204246735, 3.330166663765295, 3.429404420607467, 3.5266818033898124, 3.622058759496006, 3.7155918266296597, 3.80733445075852, 3.8973372666493162, 3.9856483444693067, 4.0723134070401885, 4.157376022027728, 4.283136987334921, 4.405459889984354, 4.524472768713757, 4.6402954302362645, 4.753040638521883, 4.8628150857132, 4.9697199404321335, 5.073851209807061, 5.175300099948027, 5.333835160636324, 5.485931505030654, 5.631908881553498, 5.772065289320053, 5.906679372042032, 6.036012014399797, 6.1603077530260695, 6.279796274883901, 6.394693817606288, 6.5052042941459565, 6.6115201983515695, 6.768034257413694, 6.915583436692056, 7.0547445967812195, 7.206011506196883, 7.34751461269942, 7.479946000503222, 7.603940366326317, 7.720081172572539, 7.828905531102183, 7.930908483893944, 8.026546943385462, 8.116243268057588, 8.270657368441775, 8.40765200763402, 8.529271802816416, 8.637300994928431, 8.733308602606803, 8.81867432183894, 8.89460787229799, 8.962171441344836, 9.022302466456162, 9.075831158800899, 9.123492678145611, 9.165937453885478, 9.203741523255921, 9.23741612507337, 9.284162552104624, 9.322965390039203, 9.355181706101376, 9.38193507117172, 9.404154111030767, 9.422607563146629, 9.43793391861481, 9.450664019780792, 9.461238466927416, 9.470022487662076, 9.47731911885081, 9.48338022638065, 9.488415196301547, 9.492597892130192, 9.496072571252373, 9.498959015103699, 9.501356804399128, 9.504279775062333, 9.506475895523785, 9.50812640572435, 9.509367412807002, 9.510300299723157, 9.511001001460237, 9.511527271793993, 9.511923034647904, 9.512220868154818, 9.512444537309614, 9.512612062566925, 9.512737919087957, 9.51283334854291, 9.512906004122787, 9.512960772595404, 9.513001539101515, 9.513032027382025, 9.513055138715721, 9.513072396241517, 9.5130847074892, 9.513093405056605, 9.513100077518187, 9.513105609970015, 9.51310996275413, 9.513112967808484, 9.513114967898758, 9.51311654991294, 9.51311796704431, 9.513119087850852, 9.513119801391626, 9.513120242882422, 9.513120619068937, 9.513120983977561, 9.513121511023165, 9.51312178672586, 9.513121784069668, 9.513121675302234, 9.51312148445029, 9.51312149545481, 9.513121665894868, 9.51312196929443, 9.513122063800635, 9.51312204192834, 9.513121996409279, 9.513121826607474, 9.513121781285394, 9.513121640931503, 9.51312154967011, 9.513121547198319, 9.513121556148345, 9.513121613266186, 9.513121677754906, 9.513121705391711, 9.513121807941241, 9.51312187493468, 9.513121899102353, 9.513121916130643, 9.513122035732613, 9.513122074406208, 9.513122125779432, 9.513122124714664, 9.513122124216927])),\n",
       "         ('myokit.time',\n",
       "          array('d', [0.0, 0.00024092068105703893, 0.00048184136211407787, 0.000986964197511315, 0.0014920870329085522, 0.0019972098683057895, 0.002932694208531564, 0.005696241192692582, 0.0070655066834680496, 0.008434772174243517, 0.009804037665018986, 0.011887703933593945, 0.013971370202168903, 0.016055036470743862, 0.01959604459711663, 0.0231370527234894, 0.026678060849862167, 0.030219068976234935, 0.0337600771026077, 0.03730108522898047, 0.04084209335535324, 0.044383101481726014, 0.047924109608098786, 0.05146511773447156, 0.05500612586084433, 0.0585471339872171, 0.06208814211358987, 0.06562915023996264, 0.06917015836633542, 0.07452838860269152, 0.07988661883904763, 0.08524484907540374, 0.09060307931175984, 0.09596130954811595, 0.10131953978447206, 0.10667777002082816, 0.11203600025718427, 0.11739423049354038, 0.12605557441968326, 0.13471691834582616, 0.14337826227196906, 0.15203960619811197, 0.16070095012425487, 0.16936229405039777, 0.17802363797654067, 0.18668498190268357, 0.19534632582882647, 0.20400766975496937, 0.21266901368111227, 0.2260581179720129, 0.2394472222629135, 0.25283632655381416, 0.26833038059132003, 0.2838244346288259, 0.29931848866633176, 0.31481254270383763, 0.3303065967413435, 0.34580065077884936, 0.3612947048163552, 0.3767887588538611, 0.39228281289136696, 0.42151657805114123, 0.4507503432109155, 0.4799841083706898, 0.5092178735304641, 0.5384516386902384, 0.5676854038500126, 0.5969191690097869, 0.6261529341695612, 0.6553866993293355, 0.6846204644891097, 0.713854229648884, 0.7430879948086583, 0.7723217599684326, 0.8015555251282068, 0.8487095802141215, 0.8958636353000361, 0.9430176903859507, 0.9901717454718654, 1.0373258005577801, 1.0844798556436948, 1.1316339107296094, 1.178787965815524, 1.2259420209014387, 1.2730960759873533, 1.320250131073268, 1.3674041861591826, 1.4145582412450972, 1.4617122963310119, 1.5088663514169265, 1.5560204065028411, 1.6031744615887558, 1.6757908016291558, 1.748407141669556, 1.821023481709956, 1.893639821750356, 1.9662561617907561, 2.038872501831156, 2.1114888418715565, 2.184105181911957, 2.256721521952357, 2.3293378619927574, 2.4019542020331577, 2.474570542073558, 2.5471868821139583, 2.6198032221543586, 2.692419562194759, 2.765035902235159, 2.8376522422755595, 2.9102685823159598, 2.98288492235636, 3.0555012623967603, 3.1281176024371606, 3.200733942477561, 3.2733502825179612, 3.3459666225583615, 3.418582962598762, 3.491199302639162, 3.5638156426795624, 3.6364319827199627, 3.709048322760363, 3.7816646628007633, 3.8542810028411636, 3.926897342881564, 3.999513682921964, 4.117793215335567, 4.23607274774917, 4.354352280162773, 4.472631812576377, 4.681907501274255, 4.891183189972133, 5.100458878670011, 5.523713709927569, 5.946968541185127, 6.370223372442685, 7.086976163072756, 8.716862947434295, 10.346749731795834, 12.930103192515958, 15.513456653236084, 18.09681011395621, 20.680163574676335, 25.501681412263682, 30.32319924985103, 35.14471708743838, 47.40372030201245, 59.662723516586524, 71.92172673116059, 95.21057159079885, 202.8681508490293, 310.52573010725973, 531.5539302510429, 1086.767462588675, 1878.0])),\n",
       "         ('dot(myokit.susceptible)',\n",
       "          array('d', [-44.35784422679429, -43.914990342221486, -43.4772827682886, -42.57475105985566, -41.69213840667008, -40.830165264585894, -39.28746490484074, -35.10223933789576, -33.22428518681065, -31.46253599826989, -29.808621649027014, -27.48313731394534, -25.36740029975314, -23.43873173937344, -20.539162831113916, -18.04806372702968, -15.90034265958941, -14.043064900181697, -12.432470033760287, -11.032043772898927, -9.811187900021615, -8.744195925858365, -7.8094152688236305, -6.988554211477493, -6.2661120721782035, -5.628913054942488, -5.065724867883438, -4.566945588693857, -4.124345404520239, -3.546065467621702, -3.0599888681306817, -2.6496872925129136, -2.302103452778694, -2.006657503467767, -1.7546535707943172, -1.5389461400466011, -1.3536870247536017, -1.1940794078187125, -0.9804425750178891, -0.8104543923266709, -0.674302534278167, -0.5644903798149372, -0.4752559181360248, -0.4022692190697179, -0.3422794263457939, -0.2927318968963547, -0.2515563949151062, -0.2171268580188051, -0.1882124569198667, -0.15212302428886687, -0.124093114441943, -0.10214114088345556, -0.08236366583367534, -0.06707268681453978, -0.05512699457846619, -0.04570697595816336, -0.03820846393372499, -0.032183225206273466, -0.027298844418225218, -0.023307338786126088, -0.02002123390065435, -0.015256811350130158, -0.011832076883673234, -0.009322250896829816, -0.007451532377933101, -0.0060314483769161225, -0.004933448560282639, -0.00407271642863806, -0.0033915604582153256, -0.0028468064062533143, -0.0024053705735058288, -0.002043691217675281, -0.0017455200858343684, -0.0014983766644739416, -0.0012917643259484865, -0.0010248757029251365, -0.0008191779308645054, -0.0006587469055671934, -0.0005327001997383221, -0.00043290197587831557, -0.00035311859313827556, -0.0002888280842841238, -0.00023684799334077044, -0.0001947377189652903, -0.00016044522232643282, -0.0001323306382587883, -0.00010922306153107714, -9.026652527381661e-05, -7.471171429980261e-05, -6.187887791984363e-05, -5.12424900305707e-05, -4.244332456263709e-05, -3.178190879848266e-05, -2.3828021200747368e-05, -1.791088784505977e-05, -1.3495700654338542e-05, -1.0156833776765072e-05, -7.613538407806055e-06, -5.702261324295816e-06, -4.291057858692927e-06, -3.238974184551497e-06, -2.4314087566886976e-06, -1.8141573044271696e-06, -1.3635857262787402e-06, -1.036702508301082e-06, -7.849078117617648e-07, -5.861101232886902e-07, -4.3824485251755694e-07, -3.332249514613389e-07, -2.513735609866306e-07, -1.8088473494380163e-07, -1.273197023978232e-07, -9.578596108228775e-08, -7.782553207684513e-08, -6.124109236962332e-08, -4.3543167414802713e-08, -3.010224401569511e-08, -2.3389223479470064e-08, -1.974129448293135e-08, -1.5283172426657573e-08, -1.0303773328267883e-08, -7.003653156162712e-09, -5.727044047243347e-09, -4.9528553648610474e-09, -3.6858787877254054e-09, -9.829074190200558e-10, 8.334907741229768e-10, 1.0072372270975882e-09, 4.199934405704192e-10, -9.966323165461687e-10, -1.4361597675476468e-09, -8.035566239892753e-10, 1.7813240256275526e-10, 3.052105223240453e-10, 1.0577739238055562e-10, -8.587008409762857e-11, -4.1550320083269403e-10, -1.8878769624057392e-10, -2.3868294940441063e-10, -2.067685763205391e-10, -3.191054399842517e-11, 1.4229143701920504e-11, 2.621044720198017e-11, 2.1334857634853677e-11, 4.8368112738041874e-12, 1.2461355898742363e-11, 4.698876335910608e-12, -2.4603917596423244e-14, -2.318551510075761e-13, -3.9846193561216024e-13, 1.512701283699791e-14, 2.625924016223065e-14, 1.7440805136065877e-15, 1.5050724944137659e-15])),\n",
       "         ('dot(myokit.exposed)',\n",
       "          array('d', [35.86168936648612, 35.38525238173924, 34.914408563913554, 33.943689969430665, 32.9945786880202, 32.067899007190164, 30.410070557037326, 25.91748523862728, 23.904906331377514, 22.019102802546286, 20.251015652294637, 17.769525663343483, 15.517420330224997, 13.470039773329468, 10.404885714172519, 7.787761118243139, 5.5477231166419045, 3.6270028800236354, 1.977762198032897, 0.5600085653933, -0.6598345791509388, -1.7100276155288938, -2.614416228816256, -3.393179276110634, -4.063445167774325, -4.639797033039232, -5.134686670214879, -5.558774933675995, -5.92121290104254, -6.369528434583108, -6.7172947938045935, -6.9828788242121895, -7.180890706546183, -7.323185180874239, -7.419525115462203, -7.477945457378874, -7.505027180775476, -7.506169030126577, -7.46428813812825, -7.38093291978158, -7.267110293280441, -7.131212655532673, -6.979668964156371, -6.817264188477511, -6.647535922125308, -6.473227735994803, -6.2965392737399775, -6.119160219595618, -5.942316256147294, -5.672143084515375, -5.408009582159795, -5.1515177745479, -4.865649318853955, -4.592369869987367, -4.332033804298532, -4.084662925411106, -3.850074027159051, -3.6279463621891557, -3.4178655612565216, -3.2193588033110863, -3.0319221554802507, -2.7066017666175624, -2.415407044117023, -2.1550251045699556, -1.9223643784656064, -1.7145892687440796, -1.5291154879547386, -1.363594929255959, -1.215908131652899, -1.0841559912718857, -0.9666393247275763, -0.8618328151109322, -0.7683668829342877, -0.6850179572229191, -0.6106968053727909, -0.5074108798483173, -0.4215847126986568, -0.3502702375339873, -0.2910113319665403, -0.24177032710917476, -0.20085811625767316, -0.16686935654440363, -0.1386314905907263, -0.11516920789474587, -0.09567565494934957, -0.07948254275870566, -0.06603183545063583, -0.054856537208612256, -0.04557008755888086, -0.03785537901432328, -0.0314490798421429, -0.02612812689415964, -0.019641433680719658, -0.014766715938558935, -0.01109688387194281, -0.008329726343242317, -0.006251865169305539, -0.004704031894563144, -0.0035474886805369837, -0.0026651842112675656, -0.0019867030335274844, -0.001485824799789512, -0.001134971267012123, -0.0008737988250836078, -0.0006569979360278404, -0.0004842189318482882, -0.00036364401428407966, -0.0002815125522150336, -0.00020960241513891056, -0.0001398830896490906, -9.411354393112202e-05, -7.677696076663652e-05, -6.768755861929453e-05, -5.2678339256654026e-05, -3.550675043625034e-05, -2.4376507341016954e-05, -1.9731146657037705e-05, -1.6666937173095383e-05, -1.2489985178125972e-05, -8.376103510573125e-06, -5.916441752005858e-06, -4.845195925836938e-06, -4.003422185121884e-06, -2.935310466421447e-06, -1.981404188765954e-06, -6.637184910131352e-07, 1.2578499485286963e-07, 3.1264538398939247e-07, 1.898110648340883e-07, -2.528152077654376e-07, -4.6315599405308435e-07, -3.2349840224295253e-07, 6.389275046906108e-09, 1.1210967330783897e-07, 6.260068406946271e-08, -1.6564105852635785e-08, -1.4274613756448308e-07, -7.324227153201724e-08, -7.734498252435345e-08, -7.536736815508633e-08, -1.510550872055473e-08, 6.599219549172687e-09, 1.4358546935238744e-08, 1.0983438218574298e-08, 2.4615958488369474e-09, 6.0551300886141264e-09, 2.3826222692997632e-09, 2.077337143801128e-12, -1.1911363717269607e-10, -1.899714857464334e-10, 1.7411695533006927e-11, 2.8796171227522845e-11, 1.910651382341834e-12, 1.6491670158545438e-12])),\n",
       "         ('dot(myokit.infected)',\n",
       "          array('d', [-27.184829748522226, -27.092176573841883, -27.00017085890559, -26.809138341304887, -26.62056284303599, -26.434602417573743, -26.097109354582837, -25.148730464393388, -24.705144532665226, -24.277540222521953, -23.865029046248388, -23.264664947410118, -22.69503195349143, -22.153537619267848, -21.292103133863733, -20.496754360442896, -19.75962926072682, -19.07413843073565, -18.43464860322382, -17.83629186480746, -17.27484318974366, -16.74662711879882, -16.24843861829666, -15.777474636983653, -15.331275694119956, -14.907676648713075, -14.504765363962031, -14.120847918816105, -13.7544191989933, -13.230275097904007, -12.739074619899323, -12.277359703988795, -11.842224325811353, -11.431174305298507, -11.042032255905132, -10.672893242483186, -10.322094414512934, -9.988179996249782, -9.480896086160229, -9.009753065052003, -8.570887088440035, -8.16100884700763, -7.777288789376406, -7.417313291233064, -7.079016832232965, -6.760585906904724, -6.460399440399836, -6.177020223958633, -5.909185895110419, -5.52314059638417, -5.167876667390496, -4.840238899304188, -4.4919602180802025, -4.1733145095891695, -3.8811662342564883, -3.6127987516451707, -3.365836093695105, -3.1381934381509873, -2.928038256861653, -2.733754514359902, -2.5539106190833953, -2.24950144099739, -1.9847318092400923, -1.753706547940217, -1.5515758192819076, -1.3742610537219262, -1.2183342238505623, -1.0809420616447516, -0.959695937379321, -0.8525558259591759, -0.7577585707237916, -0.6737857819546036, -0.5993347116564076, -0.5332785849344573, -0.4746316432486931, -0.39350898463823025, -0.32640957277916927, -0.27084688407494334, -0.2247971978693704, -0.18661234397920065, -0.1549393298416153, -0.12865951925504526, -0.10684814919795388, -0.08874167588948181, -0.07370776532386873, -0.06122216371101054, -0.05085231976127698, -0.042241332624133286, -0.035091080357837055, -0.02915095726333819, -0.024214088759534978, -0.020113051643744644, -0.015116176591025949, -0.011364283078356406, -0.008548994809640529, -0.006434744825734376, -0.00483770875967042, -0.003625514828633527, -0.0027155625917504355, -0.0020479647785755202, -0.0015545574199101624, -0.0011669573373638878, -0.000855021257090193, -0.0006313956526274927, -0.0004879489376904642, -0.0003805257164863972, -0.00028199697789422676, -0.00020228074376079638, -0.00015799959524696395, -0.0001360034587204462, -0.00010376931689119467, -6.272300482816314e-05, -3.755560509073556e-05, -3.28941083403772e-05, -3.176834588700902e-05, -2.3424378225758928e-05, -1.3321356907873007e-05, -9.025879636399628e-06, -9.197439612934504e-06, -8.410625772329814e-06, -5.399674583352587e-06, -2.8468957956972562e-06, -2.2870651537383796e-06, -2.5048846840529843e-06, -2.0670118076764833e-06, -4.1570723202134563e-07, 7.894079838187036e-07, 7.932404621258002e-07, 2.7131340540062994e-07, -8.415306449109996e-07, -1.1140107321108595e-06, -5.590092910393271e-07, 1.8926613357797362e-07, 2.2314349115224846e-07, 5.359052071374137e-08, -7.775969800159959e-08, -3.136143665789702e-07, -1.340890639033699e-07, -1.8474489761875902e-07, -1.5165497607645754e-07, -1.992931939252132e-08, 9.023028550962152e-09, 1.4419700078659072e-08, 1.2443230236831555e-08, 2.8496306147604425e-09, 7.629975168014864e-09, 2.7780836856343054e-09, -2.9100192420785468e-11, -1.3554107845047718e-10, -2.477298362948119e-10, -7.943265623021463e-13, 5.180219086595734e-14, 5.3648742146508525e-15, 4.278335982852314e-15])),\n",
       "         ('dot(myokit.recovered)',\n",
       "          array('d', [35.6809846088304, 35.62191453432413, 35.56304506328064, 35.44019943172988, 35.318122561685875, 35.19686867496947, 34.97450370238625, 34.33348456366187, 34.02452338809836, 33.720973418245556, 33.422635042980765, 32.97827659801197, 32.54501192301957, 32.12222958531182, 31.42638025080513, 30.75705696922944, 30.112248803674323, 29.490200450893713, 28.88935643895121, 28.308327072313087, 27.745865668916213, 27.200850660186077, 26.67227011593655, 26.15920812457178, 25.660832934072484, 25.176386736694795, 24.705176902060348, 24.246568441185957, 23.79997750455608, 23.145869000108817, 22.5163582818346, 21.909925820713898, 21.32521848513623, 20.761016989640513, 20.216210942161652, 19.68978483990866, 19.18080862004201, 18.68842843419507, 17.925626799306368, 17.201140377160254, 16.512299915998643, 15.856711882355238, 15.232213671668802, 14.636846698780293, 14.068832180704067, 13.526545539795881, 13.00849510905492, 12.513307301573056, 12.03971460817758, 11.347406705188412, 10.699979363992234, 10.093897814735543, 9.439973202767833, 8.832757066391077, 8.268327033133486, 7.74316865301444, 7.25411858478788, 6.798323025546416, 6.3732026625364, 5.9764206564571145, 5.6058540084643, 4.971360018965083, 4.411970930240789, 3.9180539034070025, 3.481391730125447, 3.094881770842922, 2.7523831603655835, 2.4486097073293487, 2.1789956294904353, 1.9395586236373148, 1.7268032660248738, 1.5376622882832112, 1.3694471146765297, 1.2197949188218504, 1.0866202129474325, 0.9019447401894727, 0.7488134634086906, 0.6217758685144978, 0.516341230035649, 0.4288155730642537, 0.35615056469242673, 0.295817703883733, 0.24571648778202096, 0.20410562150319297, 0.16954386549554473, 0.140837037107975, 0.11699337827344389, 0.09718813635801936, 0.08073587963101772, 0.06706821515558131, 0.05571441109170845, 0.04628362186246692, 0.03478939218054409, 0.02615482703811609, 0.019663789569428398, 0.014777966869631032, 0.011099730762752724, 0.008337160261604477, 0.006268753533611715, 0.004717440047701779, 0.0035444994276221985, 0.0026552135459100884, 0.001991806681406743, 0.0015065580634373793, 0.0011459835762266057, 0.0008655295561464472, 0.0006462271023015951, 0.00048423154082834755, 0.00036793523533733583, 0.00027613792193052343, 0.0001980637455572605, 0.00013962728529719748, 0.00010533894967111238, 8.565027312910807e-05, 6.733633741562899e-05, 4.7844428734190685e-05, 3.3082605808926406e-05, 2.571620603297448e-05, 2.1707166085543407e-05, 1.6802012455329597e-05, 1.1326420108686713e-05, 7.699095374690357e-06, 6.296214382907507e-06, 5.445148005839292e-06, 4.052101875230162e-06, 1.0804086304535008e-06, -9.160264694456961e-07, -1.1068930833422902e-06, -4.615444636752887e-07, 1.0953424849929834e-06, 1.5786028859314914e-06, 8.833112499062688e-07, -1.9583354102744247e-07, -3.3555837498241147e-07, -1.1629698217558464e-07, 9.4409673938333e-08, 4.56776007344286e-07, 2.0752012313162772e-07, 2.623285630925169e-07, 2.2722911280786444e-07, 3.5066738657074475e-08, -1.563647724383676e-08, -2.8804457461099796e-08, -2.3448003313040706e-08, -5.316063274871194e-09, -1.3697566612527734e-08, -5.165404831269979e-09, 2.7047459194580765e-11, 2.5488657077418083e-10, 4.3809978397685745e-10, -1.663249598354178e-11, -2.8874232658551033e-11, -1.9177603370700913e-12, -1.6549504243318099e-12]))])"
      ]
     },
     "metadata": {},
     "execution_count": 30
    }
   ],
   "source": [
    "output = sim.run(test_data['Time'].max()+1)\n",
    "\n",
    "# Get e.g. susceptibles\n",
    "s = np.array(outputs['myokit.susceptible'])"
   ]
  },
  {
   "cell_type": "code",
   "execution_count": 31,
   "metadata": {},
   "outputs": [
    {
     "output_type": "stream",
     "name": "stdout",
     "text": [
      "1.33 ms ± 54.6 µs per loop (mean ± std. dev. of 7 runs, 1000 loops each)\n"
     ]
    }
   ],
   "source": [
    "%%timeit\n",
    "\n",
    "sim.run(test_data['Time'].max()+1)"
   ]
  },
  {
   "cell_type": "code",
   "execution_count": null,
   "metadata": {},
   "outputs": [],
   "source": [
    "class ForwardModel(pints.ForwardModel):\n",
    "    def __init__(self):\n",
    "        super(ForwardModel, self).__init__()\n",
    "\n",
    "        # Create model\n",
    "        model = myokit.Model()\n",
    "\n",
    "        # Create states and parameters\n",
    "        comp = myokit_model.add_component('myokit')\n",
    "        s = comp.add_variable('susceptible')\n",
    "        e = comp.add_variable('exposed')\n",
    "        i = comp.add_variable('infected')\n",
    "        r = comp.add_variable('recovered')\n",
    "        incubation_rate = comp.add_variable('incubation_rate')\n",
    "        infection_rate = comp.add_variable('infection_rate')\n",
    "        recovery_rate = comp.add_variable('recovery_rate')\n",
    "        time = comp.add_variable('time')\n",
    "\n",
    "        # Bind time variable\n",
    "        time.set_binding('time')\n",
    "\n",
    "        # Set parameter values\n",
    "        infection_rate.set_rhs(8.87084302)\n",
    "        incubation_rate.set_rhs(3.93934852)\n",
    "        recovery_rate.set_rhs(9.05002)\n",
    "\n",
    "        # Set RHS of states\n",
    "        s.promote(1.26828906)\n",
    "        s.set_rhs(\n",
    "            myokit.Multiply(\n",
    "                myokit.Multiply(\n",
    "                    myokit.PrefixMinus(myokit.Name(infection_rate)),\n",
    "                    myokit.Name(s)),\n",
    "                myokit.Name(i)))\n",
    "        e.promote(2.1567411)\n",
    "        e.set_rhs(\n",
    "            myokit.Minus(\n",
    "                myokit.Multiply(\n",
    "                    myokit.Multiply(\n",
    "                        myokit.Name(infection_rate),\n",
    "                        myokit.Name(s)),\n",
    "                    myokit.Name(i)),\n",
    "                myokit.Multiply(\n",
    "                    myokit.Name(incubation_rate),\n",
    "                    myokit.Name(e))))\n",
    "        i.promote(3.94264152)\n",
    "        i.set_rhs(\n",
    "            myokit.Minus(\n",
    "                myokit.Multiply(\n",
    "                    myokit.Name(incubation_rate),\n",
    "                    myokit.Name(e)),\n",
    "                myokit.Multiply(\n",
    "                    myokit.Name(recovery_rate),\n",
    "                    myokit.Name(i))))\n",
    "        r.promote(2.14637825)\n",
    "        r.set_rhs(\n",
    "            myokit.Multiply(\n",
    "                myokit.Name(recovery_rate),\n",
    "                myokit.Name(i)))\n",
    "        time.set_rhs(0)\n",
    "\n",
    "        # Instantiate simulator\n",
    "        self._sim = myokit.Simulation(model)\n",
    "\n",
    "    def n_parameters(self):\n",
    "        return 7\n",
    "\n",
    "    def simulate(self, parameters, times):\n",
    "        # Reset\n",
    "        self._sim.reset()\n",
    "\n",
    "        # Unpack parameters\n",
    "\n",
    "        # Set initial states\n",
    "\n",
    "        # Set parameters\n",
    "\n"
   ]
  }
 ]
}